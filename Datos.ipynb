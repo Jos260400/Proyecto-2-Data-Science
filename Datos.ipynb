{
  "metadata": {
    "language_info": {
      "codemirror_mode": {
        "name": "python",
        "version": 3
      },
      "file_extension": ".py",
      "mimetype": "text/x-python",
      "name": "python",
      "nbconvert_exporter": "python",
      "pygments_lexer": "ipython3",
      "version": "3.8"
    },
    "kernelspec": {
      "name": "python",
      "display_name": "Python (Pyodide)",
      "language": "python"
    }
  },
  "nbformat_minor": 4,
  "nbformat": 4,
  "cells": [
    {
      "cell_type": "code",
      "source": "%matplotlib inline\nfrom numpy.random import RandomState\nfrom sklearn.model_selection import train_test_split\nimport numpy as np\nimport pandas as pd\nimport matplotlib.pyplot as plt",
      "metadata": {
        "trusted": true
      },
      "execution_count": 1,
      "outputs": []
    },
    {
      "cell_type": "code",
      "source": "datos = pd.read_csv('train.csv')",
      "metadata": {
        "trusted": true
      },
      "execution_count": 2,
      "outputs": []
    },
    {
      "cell_type": "code",
      "source": "datos.head()",
      "metadata": {
        "trusted": true
      },
      "execution_count": 3,
      "outputs": [
        {
          "execution_count": 3,
          "output_type": "execute_result",
          "data": {
            "text/plain": "     video_id        time      event           event_attributes\n0  1606b0e6_0  200.265822      start                        NaN\n1  1606b0e6_0  201.150000  challenge     ['ball_action_forced']\n2  1606b0e6_0  202.765822        end                        NaN\n3  1606b0e6_0  210.124111      start                        NaN\n4  1606b0e6_0  210.870000  challenge  ['opponent_dispossessed']",
            "text/html": "<div>\n<style scoped>\n    .dataframe tbody tr th:only-of-type {\n        vertical-align: middle;\n    }\n\n    .dataframe tbody tr th {\n        vertical-align: top;\n    }\n\n    .dataframe thead th {\n        text-align: right;\n    }\n</style>\n<table border=\"1\" class=\"dataframe\">\n  <thead>\n    <tr style=\"text-align: right;\">\n      <th></th>\n      <th>video_id</th>\n      <th>time</th>\n      <th>event</th>\n      <th>event_attributes</th>\n    </tr>\n  </thead>\n  <tbody>\n    <tr>\n      <th>0</th>\n      <td>1606b0e6_0</td>\n      <td>200.265822</td>\n      <td>start</td>\n      <td>NaN</td>\n    </tr>\n    <tr>\n      <th>1</th>\n      <td>1606b0e6_0</td>\n      <td>201.150000</td>\n      <td>challenge</td>\n      <td>['ball_action_forced']</td>\n    </tr>\n    <tr>\n      <th>2</th>\n      <td>1606b0e6_0</td>\n      <td>202.765822</td>\n      <td>end</td>\n      <td>NaN</td>\n    </tr>\n    <tr>\n      <th>3</th>\n      <td>1606b0e6_0</td>\n      <td>210.124111</td>\n      <td>start</td>\n      <td>NaN</td>\n    </tr>\n    <tr>\n      <th>4</th>\n      <td>1606b0e6_0</td>\n      <td>210.870000</td>\n      <td>challenge</td>\n      <td>['opponent_dispossessed']</td>\n    </tr>\n  </tbody>\n</table>\n</div>"
          },
          "metadata": {}
        }
      ]
    },
    {
      "cell_type": "code",
      "source": "datos.head(11218)",
      "metadata": {
        "trusted": true
      },
      "execution_count": 4,
      "outputs": [
        {
          "execution_count": 4,
          "output_type": "execute_result",
          "data": {
            "text/plain": "         video_id         time      event           event_attributes\n0      1606b0e6_0   200.265822      start                        NaN\n1      1606b0e6_0   201.150000  challenge     ['ball_action_forced']\n2      1606b0e6_0   202.765822        end                        NaN\n3      1606b0e6_0   210.124111      start                        NaN\n4      1606b0e6_0   210.870000  challenge  ['opponent_dispossessed']\n...           ...          ...        ...                        ...\n11213  ecf251d4_0  3056.587000  challenge  ['opponent_dispossessed']\n11214  ecf251d4_0  3058.072895        end                        NaN\n11215  ecf251d4_0  3068.280519      start                        NaN\n11216  ecf251d4_0  3069.547000    throwin                   ['pass']\n11217  ecf251d4_0  3070.780519        end                        NaN\n\n[11218 rows x 4 columns]",
            "text/html": "<div>\n<style scoped>\n    .dataframe tbody tr th:only-of-type {\n        vertical-align: middle;\n    }\n\n    .dataframe tbody tr th {\n        vertical-align: top;\n    }\n\n    .dataframe thead th {\n        text-align: right;\n    }\n</style>\n<table border=\"1\" class=\"dataframe\">\n  <thead>\n    <tr style=\"text-align: right;\">\n      <th></th>\n      <th>video_id</th>\n      <th>time</th>\n      <th>event</th>\n      <th>event_attributes</th>\n    </tr>\n  </thead>\n  <tbody>\n    <tr>\n      <th>0</th>\n      <td>1606b0e6_0</td>\n      <td>200.265822</td>\n      <td>start</td>\n      <td>NaN</td>\n    </tr>\n    <tr>\n      <th>1</th>\n      <td>1606b0e6_0</td>\n      <td>201.150000</td>\n      <td>challenge</td>\n      <td>['ball_action_forced']</td>\n    </tr>\n    <tr>\n      <th>2</th>\n      <td>1606b0e6_0</td>\n      <td>202.765822</td>\n      <td>end</td>\n      <td>NaN</td>\n    </tr>\n    <tr>\n      <th>3</th>\n      <td>1606b0e6_0</td>\n      <td>210.124111</td>\n      <td>start</td>\n      <td>NaN</td>\n    </tr>\n    <tr>\n      <th>4</th>\n      <td>1606b0e6_0</td>\n      <td>210.870000</td>\n      <td>challenge</td>\n      <td>['opponent_dispossessed']</td>\n    </tr>\n    <tr>\n      <th>...</th>\n      <td>...</td>\n      <td>...</td>\n      <td>...</td>\n      <td>...</td>\n    </tr>\n    <tr>\n      <th>11213</th>\n      <td>ecf251d4_0</td>\n      <td>3056.587000</td>\n      <td>challenge</td>\n      <td>['opponent_dispossessed']</td>\n    </tr>\n    <tr>\n      <th>11214</th>\n      <td>ecf251d4_0</td>\n      <td>3058.072895</td>\n      <td>end</td>\n      <td>NaN</td>\n    </tr>\n    <tr>\n      <th>11215</th>\n      <td>ecf251d4_0</td>\n      <td>3068.280519</td>\n      <td>start</td>\n      <td>NaN</td>\n    </tr>\n    <tr>\n      <th>11216</th>\n      <td>ecf251d4_0</td>\n      <td>3069.547000</td>\n      <td>throwin</td>\n      <td>['pass']</td>\n    </tr>\n    <tr>\n      <th>11217</th>\n      <td>ecf251d4_0</td>\n      <td>3070.780519</td>\n      <td>end</td>\n      <td>NaN</td>\n    </tr>\n  </tbody>\n</table>\n<p>11218 rows × 4 columns</p>\n</div>"
          },
          "metadata": {}
        }
      ]
    },
    {
      "cell_type": "code",
      "source": "datos.info()",
      "metadata": {
        "trusted": true
      },
      "execution_count": 5,
      "outputs": [
        {
          "name": "stdout",
          "text": "<class 'pandas.core.frame.DataFrame'>\nRangeIndex: 11218 entries, 0 to 11217\nData columns (total 4 columns):\n #   Column            Non-Null Count  Dtype  \n---  ------            --------------  -----  \n 0   video_id          11218 non-null  object \n 1   time              11218 non-null  float64\n 2   event             11218 non-null  object \n 3   event_attributes  4382 non-null   object \ndtypes: float64(1), object(3)\nmemory usage: 219.2+ KB\n",
          "output_type": "stream"
        }
      ]
    },
    {
      "cell_type": "code",
      "source": "",
      "metadata": {},
      "execution_count": null,
      "outputs": []
    }
  ]
}